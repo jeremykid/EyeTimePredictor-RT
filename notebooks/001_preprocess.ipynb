{
 "cells": [
  {
   "cell_type": "code",
   "execution_count": null,
   "id": "faf2dad6-f403-4c40-ab8a-bb6fa14c6b8d",
   "metadata": {},
   "outputs": [],
   "source": [
    "import glob\n",
    "import pandas as pd\n",
    "import numpy as np\n",
    "\n",
    "xlsx_files = glob.glob(\"./data_new/*/*.xlsx\")\n",
    "print (len(xlsx_files))\n",
    "\n",
    "# df_list = []\n",
    "length_list = []\n",
    "for xlsx_file in xlsx_files:\n",
    "    input_data = pd.read_excel(xlsx_file, sheet_name='Sheet1')\n",
    "    if input_data.shape[0] !=1501:\n",
    "        print (xlsx_file, input_data.shape)\n",
    "    length_list.append(input_data.shape[0])\n",
    "    if float(str(input_data['反应时间'].iloc[0])) != float(input_data['反应时间'].iloc[0]):\n",
    "        print (xlsx_file, input_data['反应时间'].iloc[0])\n",
    "    if float(str(input_data['执行时间'].iloc[0])) != float(input_data['执行时间'].iloc[0]):\n",
    "        print (xlsx_file, input_data['执行时间'].iloc[0])\n"
   ]
  },
  {
   "cell_type": "code",
   "execution_count": 5,
   "id": "41b48851-d3b2-457b-bff2-8324388078e2",
   "metadata": {},
   "outputs": [],
   "source": [
    "import sys\n",
    "import os\n",
    "sys.path.append(os.path.abspath('../src/'))\n",
    "from data_processing import rename_the_xlsx_files_column, fill_the_xlsx_files\n",
    "# e.g.\n",
    "rename_the_xlsx_files_column('./data_new/wyz4-30-30min Metrics/60.xlsx')\n",
    "fill_the_xlsx_files('./data_new/mhs4-30-30min Metrics/60.xlsx', has_last_column=True)"
   ]
  }
 ],
 "metadata": {
  "kernelspec": {
   "display_name": "Python 3 (ipykernel)",
   "language": "python",
   "name": "python3"
  },
  "language_info": {
   "codemirror_mode": {
    "name": "ipython",
    "version": 3
   },
   "file_extension": ".py",
   "mimetype": "text/x-python",
   "name": "python",
   "nbconvert_exporter": "python",
   "pygments_lexer": "ipython3",
   "version": "3.10.4"
  }
 },
 "nbformat": 4,
 "nbformat_minor": 5
}
