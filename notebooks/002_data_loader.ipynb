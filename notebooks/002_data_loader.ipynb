{
 "cells": [
  {
   "cell_type": "code",
   "execution_count": 1,
   "id": "c1f9166a-72e6-4b1d-802d-dcc5e717fe4a",
   "metadata": {},
   "outputs": [],
   "source": [
    "import torch.nn as nn\n",
    "from sklearn.model_selection import train_test_split, StratifiedShuffleSplit\n",
    "import pandas as pd\n",
    "import numpy as np\n",
    "import torch\n",
    "from torch.utils.data import Dataset, DataLoader\n",
    "from sklearn.preprocessing import StandardScaler\n",
    "from sklearn.metrics import roc_auc_score\n",
    "# input_data\n",
    "import sys\n",
    "import os\n",
    "sys.path.append(os.path.abspath('../src/'))\n",
    "from data_loader import getDataSet\n",
    "\n",
    "import glob\n"
   ]
  },
  {
   "cell_type": "code",
   "execution_count": 2,
   "id": "9d24ae58-04f3-4883-9bac-84084a1b9127",
   "metadata": {},
   "outputs": [
    {
     "name": "stdout",
     "output_type": "stream",
     "text": [
      "146\n"
     ]
    }
   ],
   "source": [
    "xlsx_name_list = glob.glob(\"../../data_new/*/*.xlsx\")\n",
    "print (len(xlsx_name_list))"
   ]
  },
  {
   "cell_type": "code",
   "execution_count": 14,
   "id": "8e886b1d-7ab5-43d9-b7b0-ef6132d86016",
   "metadata": {
    "collapsed": true,
    "jupyter": {
     "outputs_hidden": true
    },
    "tags": []
   },
   "outputs": [
    {
     "name": "stdout",
     "output_type": "stream",
     "text": [
      "../../data_new/mqn4-30-30min Metrics(1)/32.xlsx\n",
      "../../data_new/mqn4-30-30min Metrics(1)/32.xlsx\n",
      "../../data_new/mqn4-30-30min Metrics(1)/47.xlsx\n",
      "../../data_new/mqn4-30-30min Metrics(1)/47.xlsx\n",
      "../../data_new/mqn4-30-30min Metrics(1)/57.xlsx\n",
      "../../data_new/mqn4-30-30min Metrics(1)/57.xlsx\n",
      "../../data_new/mqn4-30-30min Metrics(1)/27.xlsx\n",
      "../../data_new/mqn4-30-30min Metrics(1)/27.xlsx\n",
      "../../data_new/mqn4-30-30min Metrics(1)/49.xlsx\n",
      "../../data_new/mqn4-30-30min Metrics(1)/49.xlsx\n",
      "../../data_new/mqn4-30-30min Metrics(1)/38.xlsx\n",
      "../../data_new/mqn4-30-30min Metrics(1)/38.xlsx\n",
      "../../data_new/mqn4-30-30min Metrics(1)/8.xlsx\n",
      "../../data_new/mqn4-30-30min Metrics(1)/8.xlsx\n",
      "../../data_new/mqn4-30-30min Metrics(1)/43.xlsx\n",
      "../../data_new/mqn4-30-30min Metrics(1)/43.xlsx\n",
      "../../data_new/mqn4-30-30min Metrics(1)/6.xlsx\n",
      "../../data_new/mqn4-30-30min Metrics(1)/6.xlsx\n",
      "../../data_new/mqn4-30-30min Metrics(1)/51.xlsx\n",
      "../../data_new/mqn4-30-30min Metrics(1)/51.xlsx\n",
      "../../data_new/mqn4-30-30min Metrics(1)/26.xlsx\n",
      "../../data_new/mqn4-30-30min Metrics(1)/26.xlsx\n",
      "../../data_new/mqn4-30-30min Metrics(1)/60.xlsx\n",
      "../../data_new/mqn4-30-30min Metrics(1)/60.xlsx\n",
      "../../data_new/mqn4-30-30min Metrics(1)/25.xlsx\n",
      "../../data_new/mqn4-30-30min Metrics(1)/25.xlsx\n",
      "../../data_new/mqn4-30-30min Metrics(1)/21.xlsx\n",
      "../../data_new/mqn4-30-30min Metrics(1)/21.xlsx\n",
      "../../data_new/mqn4-30-30min Metrics(1)/4.xlsx\n",
      "../../data_new/mqn4-30-30min Metrics(1)/4.xlsx\n",
      "../../data_new/mqn4-30-30min Metrics(1)/17.xlsx\n",
      "../../data_new/mqn4-30-30min Metrics(1)/17.xlsx\n",
      "../../data_new/mqn4-30-30min Metrics(1)/5.xlsx\n",
      "../../data_new/mqn4-30-30min Metrics(1)/5.xlsx\n",
      "../../data_new/mqn4-30-30min Metrics(1)/45.xlsx\n",
      "../../data_new/mqn4-30-30min Metrics(1)/45.xlsx\n",
      "../../data_new/mqn4-30-30min Metrics(1)/48.xlsx\n",
      "../../data_new/mqn4-30-30min Metrics(1)/48.xlsx\n",
      "../../data_new/mqn4-30-30min Metrics(1)/34.xlsx\n",
      "../../data_new/mqn4-30-30min Metrics(1)/34.xlsx\n",
      "../../data_new/mqn4-30-30min Metrics(1)/20.xlsx\n",
      "../../data_new/mqn4-30-30min Metrics(1)/20.xlsx\n",
      "../../data_new/mqn4-30-30min Metrics(1)/28.xlsx\n",
      "../../data_new/mqn4-30-30min Metrics(1)/28.xlsx\n",
      "../../data_new/mqn4-30-30min Metrics(1)/24.xlsx\n",
      "../../data_new/mqn4-30-30min Metrics(1)/24.xlsx\n",
      "../../data_new/mqn4-30-30min Metrics(1)/19.xlsx\n",
      "../../data_new/mqn4-30-30min Metrics(1)/19.xlsx\n",
      "../../data_new/mqn4-30-30min Metrics(1)/52.xlsx\n",
      "../../data_new/mqn4-30-30min Metrics(1)/52.xlsx\n",
      "../../data_new/mqn4-30-30min Metrics(1)/31.xlsx\n",
      "../../data_new/mqn4-30-30min Metrics(1)/31.xlsx\n",
      "../../data_new/mqn4-30-30min Metrics(1)/18.xlsx\n",
      "../../data_new/mqn4-30-30min Metrics(1)/18.xlsx\n",
      "../../data_new/mqn4-30-30min Metrics(1)/54.xlsx\n",
      "../../data_new/mqn4-30-30min Metrics(1)/54.xlsx\n",
      "../../data_new/mqn4-30-30min Metrics(1)/35.xlsx\n",
      "../../data_new/mqn4-30-30min Metrics(1)/35.xlsx\n",
      "../../data_new/mqn4-30-30min Metrics(1)/10.xlsx\n",
      "../../data_new/mqn4-30-30min Metrics(1)/10.xlsx\n",
      "../../data_new/mqn4-30-30min Metrics(1)/33.xlsx\n",
      "../../data_new/mqn4-30-30min Metrics(1)/33.xlsx\n",
      "../../data_new/mqn4-30-30min Metrics(1)/15.xlsx\n",
      "../../data_new/mqn4-30-30min Metrics(1)/15.xlsx\n",
      "../../data_new/mqn4-30-30min Metrics(1)/44.xlsx\n",
      "../../data_new/mqn4-30-30min Metrics(1)/44.xlsx\n",
      "../../data_new/mqn4-30-30min Metrics(1)/12.xlsx\n",
      "../../data_new/mqn4-30-30min Metrics(1)/12.xlsx\n",
      "../../data_new/mqn4-30-30min Metrics(1)/37.xlsx\n",
      "../../data_new/mqn4-30-30min Metrics(1)/37.xlsx\n",
      "../../data_new/mqn4-30-30min Metrics(1)/23.xlsx\n",
      "../../data_new/mqn4-30-30min Metrics(1)/23.xlsx\n",
      "../../data_new/mqn4-30-30min Metrics(1)/13.xlsx\n",
      "../../data_new/mqn4-30-30min Metrics(1)/13.xlsx\n",
      "../../data_new/mqn4-30-30min Metrics(1)/59.xlsx\n",
      "../../data_new/mqn4-30-30min Metrics(1)/59.xlsx\n",
      "../../data_new/mqn4-30-30min Metrics(1)/46.xlsx\n",
      "../../data_new/mqn4-30-30min Metrics(1)/46.xlsx\n",
      "../../data_new/mqn4-30-30min Metrics(1)/7.xlsx\n",
      "../../data_new/mqn4-30-30min Metrics(1)/7.xlsx\n",
      "../../data_new/mqn4-30-30min Metrics(1)/30.xlsx\n",
      "../../data_new/mqn4-30-30min Metrics(1)/30.xlsx\n",
      "../../data_new/mqn4-30-30min Metrics(1)/50.xlsx\n",
      "../../data_new/mqn4-30-30min Metrics(1)/50.xlsx\n",
      "../../data_new/mqn4-30-30min Metrics(1)/16.xlsx\n",
      "../../data_new/mqn4-30-30min Metrics(1)/16.xlsx\n",
      "../../data_new/mqn4-30-30min Metrics(1)/9.xlsx\n",
      "../../data_new/mqn4-30-30min Metrics(1)/9.xlsx\n",
      "../../data_new/mqn4-30-30min Metrics(1)/22.xlsx\n",
      "../../data_new/mqn4-30-30min Metrics(1)/22.xlsx\n",
      "../../data_new/mqn4-30-30min Metrics(1)/3.xlsx\n",
      "../../data_new/mqn4-30-30min Metrics(1)/3.xlsx\n",
      "../../data_new/mqn4-30-30min Metrics(1)/36.xlsx\n",
      "../../data_new/mqn4-30-30min Metrics(1)/36.xlsx\n",
      "../../data_new/mqn4-30-30min Metrics(1)/11.xlsx\n",
      "../../data_new/mqn4-30-30min Metrics(1)/11.xlsx\n",
      "../../data_new/mqn4-30-30min Metrics(1)/14.xlsx\n",
      "../../data_new/mqn4-30-30min Metrics(1)/14.xlsx\n",
      "../../data_new/mqn4-30-30min Metrics(1)/2.xlsx\n",
      "../../data_new/mqn4-30-30min Metrics(1)/2.xlsx\n"
     ]
    }
   ],
   "source": [
    "from tqdm import tqdm\n",
    "\n",
    "for xlsx_name in xlsx_name_list:\n",
    "    input_data = pd.read_excel(xlsx_name, sheet_name='Sheet1')\n",
    "    for column in ['Event_type_眼动形式', 'Average_pupil_diameter_平均瞳孔直径', '0_direction_眼跳方向', 'Average_velocity_平均眼跳时间', 'Peak_velocity_眼跳峰值速度', '0_amplitude_眼跳幅度']:\n",
    "        if column not in input_data.columns:\n",
    "            print (xlsx_name)"
   ]
  },
  {
   "cell_type": "markdown",
   "id": "f1659587-a995-49a8-87b2-4fae0ae038b2",
   "metadata": {},
   "source": [
    "Regression Task\n",
    "\n",
    "given Sequence of data 1500 x 6 and outputs are 2 regression value\n",
    "\n",
    "(you can output a signle feature by change label_feature to ['执行时间'])"
   ]
  },
  {
   "cell_type": "code",
   "execution_count": 12,
   "id": "dd0047c4-9502-4634-9ecf-be669265428e",
   "metadata": {},
   "outputs": [
    {
     "name": "stdout",
     "output_type": "stream",
     "text": [
      "tensor([[[  0.0000,   4.1945, 191.1700, 227.6300, 256.6800,   6.9400],\n",
      "         [  0.0000,   4.1945, 191.1700, 206.7400, 250.7900,   6.9400],\n",
      "         [  0.0000,   4.1945, 191.1700, 227.6300, 256.6800,   6.9400],\n",
      "         ...,\n",
      "         [  1.0000,   4.1921, 191.0700, 227.4600, 256.4500,   6.9400],\n",
      "         [  1.0000,   4.1921, 191.0700, 227.4600, 256.4500,   6.9400],\n",
      "         [  1.0000,   4.1921, 191.0700, 227.4600, 256.4500,   6.9400]]]) tensor([[13140.,  9391.]])\n",
      "tensor([[[  0.0000,   4.2471, 193.3900, 231.4200, 261.5500,   7.0500],\n",
      "         [  0.0000,   4.2471, 193.3900, 356.0000, 356.0000,   7.0500],\n",
      "         [  0.0000,   4.2471, 193.3900, 374.3800, 374.3800,   7.0500],\n",
      "         ...,\n",
      "         [  1.0000,   4.2449, 193.2900, 231.2600, 261.3400,   7.0500],\n",
      "         [  1.0000,   4.2449, 193.2900, 231.2600, 261.3400,   7.0500],\n",
      "         [  1.0000,   4.2449, 193.2900, 231.2600, 261.3400,   7.0500]]]) tensor([[27256.,  2971.]])\n"
     ]
    },
    {
     "ename": "KeyError",
     "evalue": "Caught KeyError in DataLoader worker process 0.\nOriginal Traceback (most recent call last):\n  File \"/home/weijiesun/anaconda3/envs/pytorch/lib/python3.10/site-packages/torch/utils/data/_utils/worker.py\", line 309, in _worker_loop\n    data = fetcher.fetch(index)  # type: ignore[possibly-undefined]\n  File \"/home/weijiesun/anaconda3/envs/pytorch/lib/python3.10/site-packages/torch/utils/data/_utils/fetch.py\", line 52, in fetch\n    data = [self.dataset[idx] for idx in possibly_batched_index]\n  File \"/home/weijiesun/anaconda3/envs/pytorch/lib/python3.10/site-packages/torch/utils/data/_utils/fetch.py\", line 52, in <listcomp>\n    data = [self.dataset[idx] for idx in possibly_batched_index]\n  File \"/home/weijiesun/data/patch_tst/EyeTimePredictor-RT/src/data_loader.py\", line 42, in __getitem__\n    X = input_data[self.features].values[:self.sequence_length, :].astype(np.float32)  # 取出特征\n  File \"/home/weijiesun/anaconda3/envs/pytorch/lib/python3.10/site-packages/pandas/core/frame.py\", line 3511, in __getitem__\n    indexer = self.columns._get_indexer_strict(key, \"columns\")[1]\n  File \"/home/weijiesun/anaconda3/envs/pytorch/lib/python3.10/site-packages/pandas/core/indexes/base.py\", line 5782, in _get_indexer_strict\n    self._raise_if_missing(keyarr, indexer, axis_name)\n  File \"/home/weijiesun/anaconda3/envs/pytorch/lib/python3.10/site-packages/pandas/core/indexes/base.py\", line 5845, in _raise_if_missing\n    raise KeyError(f\"{not_found} not in index\")\nKeyError: \"['Event_type_眼动形式', 'Average_velocity_平均眼跳时间'] not in index\"\n",
     "output_type": "error",
     "traceback": [
      "\u001b[0;31m---------------------------------------------------------------------------\u001b[0m",
      "\u001b[0;31mKeyError\u001b[0m                                  Traceback (most recent call last)",
      "Input \u001b[0;32mIn [12]\u001b[0m, in \u001b[0;36m<cell line: 4>\u001b[0;34m()\u001b[0m\n\u001b[1;32m      2\u001b[0m dataset \u001b[38;5;241m=\u001b[39m PeriodDataSet(xlsx_name_list \u001b[38;5;241m=\u001b[39m xlsx_name_list, label_feature\u001b[38;5;241m=\u001b[39m[\u001b[38;5;124m'\u001b[39m\u001b[38;5;124m执行时间\u001b[39m\u001b[38;5;124m'\u001b[39m, \u001b[38;5;124m'\u001b[39m\u001b[38;5;124m反应时间\u001b[39m\u001b[38;5;124m'\u001b[39m])\n\u001b[1;32m      3\u001b[0m dataloader \u001b[38;5;241m=\u001b[39m DataLoader(dataset, batch_size\u001b[38;5;241m=\u001b[39m\u001b[38;5;241m1\u001b[39m, shuffle\u001b[38;5;241m=\u001b[39m\u001b[38;5;28;01mTrue\u001b[39;00m, num_workers\u001b[38;5;241m=\u001b[39m\u001b[38;5;241m2\u001b[39m)\n\u001b[0;32m----> 4\u001b[0m \u001b[38;5;28;01mfor\u001b[39;00m X, Y \u001b[38;5;129;01min\u001b[39;00m dataloader:\n\u001b[1;32m      5\u001b[0m     \u001b[38;5;28mprint\u001b[39m (X, Y)\n",
      "File \u001b[0;32m~/anaconda3/envs/pytorch/lib/python3.10/site-packages/torch/utils/data/dataloader.py:630\u001b[0m, in \u001b[0;36m_BaseDataLoaderIter.__next__\u001b[0;34m(self)\u001b[0m\n\u001b[1;32m    627\u001b[0m \u001b[38;5;28;01mif\u001b[39;00m \u001b[38;5;28mself\u001b[39m\u001b[38;5;241m.\u001b[39m_sampler_iter \u001b[38;5;129;01mis\u001b[39;00m \u001b[38;5;28;01mNone\u001b[39;00m:\n\u001b[1;32m    628\u001b[0m     \u001b[38;5;66;03m# TODO(https://github.com/pytorch/pytorch/issues/76750)\u001b[39;00m\n\u001b[1;32m    629\u001b[0m     \u001b[38;5;28mself\u001b[39m\u001b[38;5;241m.\u001b[39m_reset()  \u001b[38;5;66;03m# type: ignore[call-arg]\u001b[39;00m\n\u001b[0;32m--> 630\u001b[0m data \u001b[38;5;241m=\u001b[39m \u001b[38;5;28;43mself\u001b[39;49m\u001b[38;5;241;43m.\u001b[39;49m\u001b[43m_next_data\u001b[49m\u001b[43m(\u001b[49m\u001b[43m)\u001b[49m\n\u001b[1;32m    631\u001b[0m \u001b[38;5;28mself\u001b[39m\u001b[38;5;241m.\u001b[39m_num_yielded \u001b[38;5;241m+\u001b[39m\u001b[38;5;241m=\u001b[39m \u001b[38;5;241m1\u001b[39m\n\u001b[1;32m    632\u001b[0m \u001b[38;5;28;01mif\u001b[39;00m \u001b[38;5;28mself\u001b[39m\u001b[38;5;241m.\u001b[39m_dataset_kind \u001b[38;5;241m==\u001b[39m _DatasetKind\u001b[38;5;241m.\u001b[39mIterable \u001b[38;5;129;01mand\u001b[39;00m \\\n\u001b[1;32m    633\u001b[0m         \u001b[38;5;28mself\u001b[39m\u001b[38;5;241m.\u001b[39m_IterableDataset_len_called \u001b[38;5;129;01mis\u001b[39;00m \u001b[38;5;129;01mnot\u001b[39;00m \u001b[38;5;28;01mNone\u001b[39;00m \u001b[38;5;129;01mand\u001b[39;00m \\\n\u001b[1;32m    634\u001b[0m         \u001b[38;5;28mself\u001b[39m\u001b[38;5;241m.\u001b[39m_num_yielded \u001b[38;5;241m>\u001b[39m \u001b[38;5;28mself\u001b[39m\u001b[38;5;241m.\u001b[39m_IterableDataset_len_called:\n",
      "File \u001b[0;32m~/anaconda3/envs/pytorch/lib/python3.10/site-packages/torch/utils/data/dataloader.py:1324\u001b[0m, in \u001b[0;36m_MultiProcessingDataLoaderIter._next_data\u001b[0;34m(self)\u001b[0m\n\u001b[1;32m   1322\u001b[0m \u001b[38;5;28;01mif\u001b[39;00m \u001b[38;5;28mlen\u001b[39m(\u001b[38;5;28mself\u001b[39m\u001b[38;5;241m.\u001b[39m_task_info[\u001b[38;5;28mself\u001b[39m\u001b[38;5;241m.\u001b[39m_rcvd_idx]) \u001b[38;5;241m==\u001b[39m \u001b[38;5;241m2\u001b[39m:\n\u001b[1;32m   1323\u001b[0m     data \u001b[38;5;241m=\u001b[39m \u001b[38;5;28mself\u001b[39m\u001b[38;5;241m.\u001b[39m_task_info\u001b[38;5;241m.\u001b[39mpop(\u001b[38;5;28mself\u001b[39m\u001b[38;5;241m.\u001b[39m_rcvd_idx)[\u001b[38;5;241m1\u001b[39m]\n\u001b[0;32m-> 1324\u001b[0m     \u001b[38;5;28;01mreturn\u001b[39;00m \u001b[38;5;28;43mself\u001b[39;49m\u001b[38;5;241;43m.\u001b[39;49m\u001b[43m_process_data\u001b[49m\u001b[43m(\u001b[49m\u001b[43mdata\u001b[49m\u001b[43m)\u001b[49m\n\u001b[1;32m   1326\u001b[0m \u001b[38;5;28;01massert\u001b[39;00m \u001b[38;5;129;01mnot\u001b[39;00m \u001b[38;5;28mself\u001b[39m\u001b[38;5;241m.\u001b[39m_shutdown \u001b[38;5;129;01mand\u001b[39;00m \u001b[38;5;28mself\u001b[39m\u001b[38;5;241m.\u001b[39m_tasks_outstanding \u001b[38;5;241m>\u001b[39m \u001b[38;5;241m0\u001b[39m\n\u001b[1;32m   1327\u001b[0m idx, data \u001b[38;5;241m=\u001b[39m \u001b[38;5;28mself\u001b[39m\u001b[38;5;241m.\u001b[39m_get_data()\n",
      "File \u001b[0;32m~/anaconda3/envs/pytorch/lib/python3.10/site-packages/torch/utils/data/dataloader.py:1370\u001b[0m, in \u001b[0;36m_MultiProcessingDataLoaderIter._process_data\u001b[0;34m(self, data)\u001b[0m\n\u001b[1;32m   1368\u001b[0m \u001b[38;5;28mself\u001b[39m\u001b[38;5;241m.\u001b[39m_try_put_index()\n\u001b[1;32m   1369\u001b[0m \u001b[38;5;28;01mif\u001b[39;00m \u001b[38;5;28misinstance\u001b[39m(data, ExceptionWrapper):\n\u001b[0;32m-> 1370\u001b[0m     \u001b[43mdata\u001b[49m\u001b[38;5;241;43m.\u001b[39;49m\u001b[43mreraise\u001b[49m\u001b[43m(\u001b[49m\u001b[43m)\u001b[49m\n\u001b[1;32m   1371\u001b[0m \u001b[38;5;28;01mreturn\u001b[39;00m data\n",
      "File \u001b[0;32m~/anaconda3/envs/pytorch/lib/python3.10/site-packages/torch/_utils.py:706\u001b[0m, in \u001b[0;36mExceptionWrapper.reraise\u001b[0;34m(self)\u001b[0m\n\u001b[1;32m    702\u001b[0m \u001b[38;5;28;01mexcept\u001b[39;00m \u001b[38;5;167;01mTypeError\u001b[39;00m:\n\u001b[1;32m    703\u001b[0m     \u001b[38;5;66;03m# If the exception takes multiple arguments, don't try to\u001b[39;00m\n\u001b[1;32m    704\u001b[0m     \u001b[38;5;66;03m# instantiate since we don't know how to\u001b[39;00m\n\u001b[1;32m    705\u001b[0m     \u001b[38;5;28;01mraise\u001b[39;00m \u001b[38;5;167;01mRuntimeError\u001b[39;00m(msg) \u001b[38;5;28;01mfrom\u001b[39;00m \u001b[38;5;28mNone\u001b[39m\n\u001b[0;32m--> 706\u001b[0m \u001b[38;5;28;01mraise\u001b[39;00m exception\n",
      "\u001b[0;31mKeyError\u001b[0m: Caught KeyError in DataLoader worker process 0.\nOriginal Traceback (most recent call last):\n  File \"/home/weijiesun/anaconda3/envs/pytorch/lib/python3.10/site-packages/torch/utils/data/_utils/worker.py\", line 309, in _worker_loop\n    data = fetcher.fetch(index)  # type: ignore[possibly-undefined]\n  File \"/home/weijiesun/anaconda3/envs/pytorch/lib/python3.10/site-packages/torch/utils/data/_utils/fetch.py\", line 52, in fetch\n    data = [self.dataset[idx] for idx in possibly_batched_index]\n  File \"/home/weijiesun/anaconda3/envs/pytorch/lib/python3.10/site-packages/torch/utils/data/_utils/fetch.py\", line 52, in <listcomp>\n    data = [self.dataset[idx] for idx in possibly_batched_index]\n  File \"/home/weijiesun/data/patch_tst/EyeTimePredictor-RT/src/data_loader.py\", line 42, in __getitem__\n    X = input_data[self.features].values[:self.sequence_length, :].astype(np.float32)  # 取出特征\n  File \"/home/weijiesun/anaconda3/envs/pytorch/lib/python3.10/site-packages/pandas/core/frame.py\", line 3511, in __getitem__\n    indexer = self.columns._get_indexer_strict(key, \"columns\")[1]\n  File \"/home/weijiesun/anaconda3/envs/pytorch/lib/python3.10/site-packages/pandas/core/indexes/base.py\", line 5782, in _get_indexer_strict\n    self._raise_if_missing(keyarr, indexer, axis_name)\n  File \"/home/weijiesun/anaconda3/envs/pytorch/lib/python3.10/site-packages/pandas/core/indexes/base.py\", line 5845, in _raise_if_missing\n    raise KeyError(f\"{not_found} not in index\")\nKeyError: \"['Event_type_眼动形式', 'Average_velocity_平均眼跳时间'] not in index\"\n"
     ]
    }
   ],
   "source": [
    "PeriodDataSet = getDataSet(task='Regression')\n",
    "dataset = PeriodDataSet(xlsx_name_list = xlsx_name_list, label_feature=['执行时间', '反应时间'])\n",
    "dataloader = DataLoader(dataset, batch_size=1, shuffle=True, num_workers=2)\n",
    "for xlsx_name, X, Y in dataloader:\n",
    "    print (xlsx_name, X, Y)"
   ]
  },
  {
   "cell_type": "markdown",
   "id": "c6256d93-0bec-4f98-b5b0-257f22dabd8e",
   "metadata": {},
   "source": [
    "Segmentation\n",
    "\n",
    "given Sequence of data 1500 x 6 and outputs are 1500 binary bits\n",
    "\n",
    "1 means within '反应时间' to '执行时间' + '反应时间', 0 means outliers"
   ]
  },
  {
   "cell_type": "code",
   "execution_count": 4,
   "id": "86e32988-e91a-4bbd-8cda-7207d5d84526",
   "metadata": {},
   "outputs": [
    {
     "name": "stdout",
     "output_type": "stream",
     "text": [
      "tensor([[[  0.0000,   4.0769, 331.5100, 168.3100, 197.3000,   7.5500],\n",
      "         [  0.0000,   4.0769, 202.1600, 195.0200, 218.9600,   7.0200],\n",
      "         [  1.0000,   4.0678, 202.1600, 195.0200, 218.9600,   7.0200],\n",
      "         ...,\n",
      "         [  1.0000,   4.0740, 201.5100, 460.1200, 461.0500,   7.0200],\n",
      "         [  1.0000,   4.0740, 201.5100, 463.4500, 464.0700,   7.0200],\n",
      "         [  1.0000,   4.0740, 201.5100, 466.7700, 467.0800,   7.0200]],\n",
      "\n",
      "        [[  0.0000,   4.2993,  60.4600, 193.5400, 381.9400,   9.7500],\n",
      "         [  0.0000,   4.2993, 204.4000, 182.0200, 201.6400,   6.1500],\n",
      "         [  0.0000,   4.2993, 204.4000, 182.0200, 201.6400,   6.1500],\n",
      "         ...,\n",
      "         [  1.0000,   4.2993,  46.3400, 173.3900, 175.6500,   7.1800],\n",
      "         [  1.0000,   4.2993,  39.4900, 172.9900, 174.5000,   7.2200],\n",
      "         [  1.0000,   4.2993,  32.6400, 172.5900, 173.3400,   7.2700]]]) tensor([[0., 0., 0.,  ..., 0., 0., 0.],\n",
      "        [0., 0., 0.,  ..., 0., 0., 0.]])\n"
     ]
    }
   ],
   "source": [
    "PeriodDataSet = getDataSet(task='Segmentation')\n",
    "dataset = PeriodDataSet(xlsx_name_list = xlsx_name_list[:5])\n",
    "dataloader = DataLoader(dataset, batch_size=2, shuffle=True)\n",
    "for X, Y in dataloader:\n",
    "    print (X, Y)\n",
    "    break"
   ]
  },
  {
   "cell_type": "code",
   "execution_count": 5,
   "id": "04c5c50d-7244-4be2-836e-54a9688e32fd",
   "metadata": {},
   "outputs": [],
   "source": [
    "train_list, test_list = train_test_split(xlsx_name_list, test_size=0.33, random_state=42)"
   ]
  },
  {
   "cell_type": "code",
   "execution_count": 6,
   "id": "97bae1f0-cac9-4e68-ba36-560578a09c26",
   "metadata": {},
   "outputs": [
    {
     "data": {
      "text/plain": [
       "['../../data_new/mhs4-30-30min Metrics/19.xlsx',\n",
       " '../../data_new/mhs4-30-30min Metrics/52.xlsx',\n",
       " '../../data_new/mhs4-30-30min Metrics/24.xlsx',\n",
       " '../../data_new/mqn4-30-30min Metrics(1)/33.xlsx',\n",
       " '../../data_new/mqn4-30-30min Metrics(1)/48.xlsx',\n",
       " '../../data_new/mhs4-30-30min Metrics/9.xlsx',\n",
       " '../../data_new/mhs4-30-30min Metrics/21.xlsx',\n",
       " '../../data_new/mqn4-30-30min Metrics(1)/11.xlsx',\n",
       " '../../data_new/mhs4-30-30min Metrics/46.xlsx',\n",
       " '../../data_new/mqn4-30-30min Metrics(1)/38.xlsx',\n",
       " '../../data_new/mqn4-30-30min Metrics(1)/37.xlsx',\n",
       " '../../data_new/mhs4-30-30min Metrics/28.xlsx',\n",
       " '../../data_new/mqn4-30-30min Metrics(1)/4.xlsx',\n",
       " '../../data_new/mqn4-30-30min Metrics(1)/15.xlsx',\n",
       " '../../data_new/wyz4-30-30min Metrics/51.xlsx',\n",
       " '../../data_new/mhs4-30-30min Metrics/36.xlsx',\n",
       " '../../data_new/wyz4-30-30min Metrics/60.xlsx',\n",
       " '../../data_new/wyz4-30-30min Metrics/3.xlsx',\n",
       " '../../data_new/mhs4-30-30min Metrics/44.xlsx',\n",
       " '../../data_new/mqn4-30-30min Metrics(1)/23.xlsx',\n",
       " '../../data_new/mqn4-30-30min Metrics(1)/22.xlsx',\n",
       " '../../data_new/mqn4-30-30min Metrics(1)/60.xlsx',\n",
       " '../../data_new/mqn4-30-30min Metrics(1)/24.xlsx',\n",
       " '../../data_new/mqn4-30-30min Metrics(1)/31.xlsx',\n",
       " '../../data_new/mqn4-30-30min Metrics(1)/57.xlsx',\n",
       " '../../data_new/mhs4-30-30min Metrics/38.xlsx',\n",
       " '../../data_new/wyz4-30-30min Metrics/10.xlsx',\n",
       " '../../data_new/mqn4-30-30min Metrics(1)/9.xlsx',\n",
       " '../../data_new/mhs4-30-30min Metrics/14.xlsx',\n",
       " '../../data_new/mhs4-30-30min Metrics/37.xlsx',\n",
       " '../../data_new/mqn4-30-30min Metrics(1)/18.xlsx',\n",
       " '../../data_new/mhs4-30-30min Metrics/12.xlsx',\n",
       " '../../data_new/wyz4-30-30min Metrics/48.xlsx',\n",
       " '../../data_new/mhs4-30-30min Metrics/43.xlsx',\n",
       " '../../data_new/mhs4-30-30min Metrics/16.xlsx',\n",
       " '../../data_new/mqn4-30-30min Metrics(1)/34.xlsx',\n",
       " '../../data_new/wyz4-30-30min Metrics/11.xlsx',\n",
       " '../../data_new/mqn4-30-30min Metrics(1)/44.xlsx',\n",
       " '../../data_new/wyz4-30-30min Metrics/54.xlsx',\n",
       " '../../data_new/wyz4-30-30min Metrics/15.xlsx',\n",
       " '../../data_new/mqn4-30-30min Metrics(1)/46.xlsx',\n",
       " '../../data_new/mhs4-30-30min Metrics/6.xlsx',\n",
       " '../../data_new/mhs4-30-30min Metrics/41.xlsx',\n",
       " '../../data_new/wyz4-30-30min Metrics/58.xlsx',\n",
       " '../../data_new/wyz4-30-30min Metrics/5.xlsx',\n",
       " '../../data_new/mhs4-30-30min Metrics/27.xlsx',\n",
       " '../../data_new/mhs4-30-30min Metrics/5.xlsx',\n",
       " '../../data_new/mhs4-30-30min Metrics/59.xlsx',\n",
       " '../../data_new/mqn4-30-30min Metrics(1)/28.xlsx',\n",
       " '../../data_new/wyz4-30-30min Metrics/19.xlsx',\n",
       " '../../data_new/mhs4-30-30min Metrics/8.xlsx',\n",
       " '../../data_new/wyz4-30-30min Metrics/49.xlsx',\n",
       " '../../data_new/mqn4-30-30min Metrics(1)/2.xlsx',\n",
       " '../../data_new/mhs4-30-30min Metrics/57.xlsx',\n",
       " '../../data_new/wyz4-30-30min Metrics/18.xlsx',\n",
       " '../../data_new/mqn4-30-30min Metrics(1)/27.xlsx',\n",
       " '../../data_new/mhs4-30-30min Metrics/2.xlsx',\n",
       " '../../data_new/wyz4-30-30min Metrics/43.xlsx',\n",
       " '../../data_new/mhs4-30-30min Metrics/3.xlsx',\n",
       " '../../data_new/wyz4-30-30min Metrics/29.xlsx',\n",
       " '../../data_new/mqn4-30-30min Metrics(1)/26.xlsx',\n",
       " '../../data_new/wyz4-30-30min Metrics/36.xlsx',\n",
       " '../../data_new/mqn4-30-30min Metrics(1)/35.xlsx',\n",
       " '../../data_new/wyz4-30-30min Metrics/31.xlsx',\n",
       " '../../data_new/mqn4-30-30min Metrics(1)/30.xlsx',\n",
       " '../../data_new/mhs4-30-30min Metrics/30.xlsx',\n",
       " '../../data_new/mqn4-30-30min Metrics(1)/43.xlsx',\n",
       " '../../data_new/mqn4-30-30min Metrics(1)/7.xlsx',\n",
       " '../../data_new/mhs4-30-30min Metrics/11.xlsx',\n",
       " '../../data_new/mqn4-30-30min Metrics(1)/59.xlsx',\n",
       " '../../data_new/wyz4-30-30min Metrics/8.xlsx',\n",
       " '../../data_new/mhs4-30-30min Metrics/20.xlsx',\n",
       " '../../data_new/mqn4-30-30min Metrics(1)/8.xlsx',\n",
       " '../../data_new/mqn4-30-30min Metrics(1)/52.xlsx',\n",
       " '../../data_new/mhs4-30-30min Metrics/15.xlsx',\n",
       " '../../data_new/wyz4-30-30min Metrics/16.xlsx',\n",
       " '../../data_new/mqn4-30-30min Metrics(1)/6.xlsx',\n",
       " '../../data_new/mqn4-30-30min Metrics(1)/25.xlsx',\n",
       " '../../data_new/wyz4-30-30min Metrics/44.xlsx',\n",
       " '../../data_new/mhs4-30-30min Metrics/13.xlsx',\n",
       " '../../data_new/wyz4-30-30min Metrics/46.xlsx',\n",
       " '../../data_new/mhs4-30-30min Metrics/47.xlsx',\n",
       " '../../data_new/mqn4-30-30min Metrics(1)/47.xlsx',\n",
       " '../../data_new/wyz4-30-30min Metrics/33.xlsx',\n",
       " '../../data_new/wyz4-30-30min Metrics/57.xlsx',\n",
       " '../../data_new/mqn4-30-30min Metrics(1)/14.xlsx',\n",
       " '../../data_new/wyz4-30-30min Metrics/21.xlsx',\n",
       " '../../data_new/mqn4-30-30min Metrics(1)/13.xlsx',\n",
       " '../../data_new/mqn4-30-30min Metrics(1)/19.xlsx',\n",
       " '../../data_new/wyz4-30-30min Metrics/20.xlsx',\n",
       " '../../data_new/wyz4-30-30min Metrics/14.xlsx',\n",
       " '../../data_new/mhs4-30-30min Metrics/34.xlsx',\n",
       " '../../data_new/mqn4-30-30min Metrics(1)/20.xlsx',\n",
       " '../../data_new/wyz4-30-30min Metrics/40.xlsx',\n",
       " '../../data_new/mhs4-30-30min Metrics/25.xlsx',\n",
       " '../../data_new/mqn4-30-30min Metrics(1)/50.xlsx',\n",
       " '../../data_new/wyz4-30-30min Metrics/47.xlsx']"
      ]
     },
     "execution_count": 6,
     "metadata": {},
     "output_type": "execute_result"
    }
   ],
   "source": [
    "train_list"
   ]
  }
 ],
 "metadata": {
  "kernelspec": {
   "display_name": "Python 3 (ipykernel)",
   "language": "python",
   "name": "python3"
  },
  "language_info": {
   "codemirror_mode": {
    "name": "ipython",
    "version": 3
   },
   "file_extension": ".py",
   "mimetype": "text/x-python",
   "name": "python",
   "nbconvert_exporter": "python",
   "pygments_lexer": "ipython3",
   "version": "3.10.4"
  }
 },
 "nbformat": 4,
 "nbformat_minor": 5
}
