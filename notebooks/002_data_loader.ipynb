{
 "cells": [
  {
   "cell_type": "code",
   "execution_count": 1,
   "id": "c1f9166a-72e6-4b1d-802d-dcc5e717fe4a",
   "metadata": {},
   "outputs": [],
   "source": [
    "import torch.nn as nn\n",
    "from sklearn.model_selection import train_test_split, StratifiedShuffleSplit\n",
    "import pandas as pd\n",
    "import numpy as np\n",
    "import torch\n",
    "from torch.utils.data import Dataset, DataLoader\n",
    "from sklearn.preprocessing import StandardScaler\n",
    "from sklearn.metrics import roc_auc_score\n"
   ]
  },
  {
   "cell_type": "code",
   "execution_count": 2,
   "id": "9d24ae58-04f3-4883-9bac-84084a1b9127",
   "metadata": {},
   "outputs": [
    {
     "name": "stdout",
     "output_type": "stream",
     "text": [
      "146\n"
     ]
    }
   ],
   "source": [
    "import glob\n",
    "xlsx_name_list = glob.glob(\"../../data_new/*/*.xlsx\")\n",
    "print (len(xlsx_name_list))"
   ]
  },
  {
   "cell_type": "code",
   "execution_count": 3,
   "id": "4edb9975-2508-4acb-90db-faeb842adcb7",
   "metadata": {},
   "outputs": [],
   "source": [
    "# input_data\n",
    "import sys\n",
    "import os\n",
    "sys.path.append(os.path.abspath('../src/'))\n",
    "from data_loader import TimeDataset\n",
    "dataset = TimeDataset(xlsx_name_list = xlsx_name_list[:5], label_feature=['执行时间', '反应时间'])\n",
    "dataloader = DataLoader(dataset, batch_size=2, shuffle=True)"
   ]
  },
  {
   "cell_type": "code",
   "execution_count": 4,
   "id": "b0dcb57b-3029-449a-a54f-284ea21a3079",
   "metadata": {},
   "outputs": [
    {
     "name": "stdout",
     "output_type": "stream",
     "text": [
      "tensor([[[  0.0000,   4.2993, 137.4200, 188.4300, 213.7700,  15.3400],\n",
      "         [  0.0000,   4.2993, 191.1200, 194.7000, 214.6300,   6.9700],\n",
      "         [  0.0000,   4.2993, 191.1200, 194.7000, 214.6300,   6.9700],\n",
      "         ...,\n",
      "         [  1.0000,   4.2993, 173.9300, 174.3500, 174.8000,   6.0300],\n",
      "         [  1.0000,   4.2993, 173.8000, 174.2000, 174.4900,   6.0200],\n",
      "         [  1.0000,   4.2993, 173.6800, 174.0400, 174.1900,   6.0200]],\n",
      "\n",
      "        [[  0.0000,   4.0769, 331.5100, 168.3100, 197.3000,   7.5500],\n",
      "         [  0.0000,   4.0769, 202.1600, 195.0200, 218.9600,   7.0200],\n",
      "         [  1.0000,   4.0678, 202.1600, 195.0200, 218.9600,   7.0200],\n",
      "         ...,\n",
      "         [  1.0000,   4.0740, 201.5100, 460.1200, 461.0500,   7.0200],\n",
      "         [  1.0000,   4.0740, 201.5100, 463.4500, 464.0700,   7.0200],\n",
      "         [  1.0000,   4.0740, 201.5100, 466.7700, 467.0800,   7.0200]]]) tensor([[ 1870.,  7278.],\n",
      "        [18452.,  7946.]])\n"
     ]
    }
   ],
   "source": [
    "for X, Y in dataloader:\n",
    "    print (X, Y)\n",
    "    break"
   ]
  }
 ],
 "metadata": {
  "kernelspec": {
   "display_name": "Python 3 (ipykernel)",
   "language": "python",
   "name": "python3"
  },
  "language_info": {
   "codemirror_mode": {
    "name": "ipython",
    "version": 3
   },
   "file_extension": ".py",
   "mimetype": "text/x-python",
   "name": "python",
   "nbconvert_exporter": "python",
   "pygments_lexer": "ipython3",
   "version": "3.10.4"
  }
 },
 "nbformat": 4,
 "nbformat_minor": 5
}
