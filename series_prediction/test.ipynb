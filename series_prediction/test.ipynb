{
 "cells": [
  {
   "cell_type": "code",
   "execution_count": 1,
   "id": "e0b89344-af1b-4d86-88a9-3e00bbf220fb",
   "metadata": {},
   "outputs": [
    {
     "name": "stderr",
     "output_type": "stream",
     "text": [
      "/home/weijiesun/anaconda3/envs/pytorch/lib/python3.10/site-packages/pandas/core/computation/expressions.py:21: UserWarning: Pandas requires version '2.8.4' or newer of 'numexpr' (version '2.7.3' currently installed).\n",
      "  from pandas.core.computation.check import NUMEXPR_INSTALLED\n",
      "/home/weijiesun/anaconda3/envs/pytorch/lib/python3.10/site-packages/pandas/core/arrays/masked.py:60: UserWarning: Pandas requires version '1.3.6' or newer of 'bottleneck' (version '1.3.4' currently installed).\n",
      "  from pandas.core import (\n",
      "2025-07-01 14:34:02.396230: I tensorflow/core/platform/cpu_feature_guard.cc:193] This TensorFlow binary is optimized with oneAPI Deep Neural Network Library (oneDNN) to use the following CPU instructions in performance-critical operations:  AVX2 AVX512F FMA\n",
      "To enable them in other operations, rebuild TensorFlow with the appropriate compiler flags.\n",
      "2025-07-01 14:34:02.530382: W tensorflow/compiler/xla/stream_executor/platform/default/dso_loader.cc:64] Could not load dynamic library 'libcudart.so.11.0'; dlerror: libcudart.so.11.0: cannot open shared object file: No such file or directory\n",
      "2025-07-01 14:34:02.530405: I tensorflow/compiler/xla/stream_executor/cuda/cudart_stub.cc:29] Ignore above cudart dlerror if you do not have a GPU set up on your machine.\n",
      "2025-07-01 14:34:03.341243: W tensorflow/compiler/xla/stream_executor/platform/default/dso_loader.cc:64] Could not load dynamic library 'libnvinfer.so.7'; dlerror: libnvinfer.so.7: cannot open shared object file: No such file or directory\n",
      "2025-07-01 14:34:03.341366: W tensorflow/compiler/xla/stream_executor/platform/default/dso_loader.cc:64] Could not load dynamic library 'libnvinfer_plugin.so.7'; dlerror: libnvinfer_plugin.so.7: cannot open shared object file: No such file or directory\n",
      "2025-07-01 14:34:03.341378: W tensorflow/compiler/tf2tensorrt/utils/py_utils.cc:38] TF-TRT Warning: Cannot dlopen some TensorRT libraries. If you would like to use Nvidia GPU with TensorRT, please make sure the missing libraries mentioned above are installed properly.\n"
     ]
    },
    {
     "name": "stdout",
     "output_type": "stream",
     "text": [
      "Train (116)\n",
      "Test  (29)\n"
     ]
    }
   ],
   "source": [
    "import pandas as pd\n",
    "from sklearn.model_selection import train_test_split\n",
    "from series_prediction_helper import TimeSeriesDataset, SeriesPredictionModule, SeriesPredictionDataModule\n",
    "import glob\n",
    "\n",
    "xlsx_files = glob.glob(f\"./series_prediction_data/*/*.xlsx\")\n",
    "\n",
    "train_files, val_files = train_test_split(xlsx_files, test_size=0.2, shuffle=True, random_state=42)\n",
    "\n",
    "print(f\"Train ({len(train_files)})\")\n",
    "print(f\"Test  ({len(val_files)})\")"
   ]
  },
  {
   "cell_type": "code",
   "execution_count": 2,
   "id": "1e4de1b0-23b4-44e2-bd54-320ddac96893",
   "metadata": {},
   "outputs": [],
   "source": [
    "from transformers import AutoformerConfig, AutoformerForPrediction\n",
    "\n",
    "# device = torch.device('cpu')\n",
    "\n",
    "prediction_length = 1201\n",
    "context_length = 300\n",
    "# lags_sequence = [1, 2, 5, 10, 20, 50, 100]\n",
    "num_time_features = 0\n",
    "\n",
    "# # 3. 配置 Autoformer\n",
    "config = AutoformerConfig(\n",
    "    prediction_length=prediction_length,  \n",
    "    context_length=context_length,          \n",
    "\n",
    "    # multi channel\n",
    "    input_size=5,                           # \n",
    "    scaling=True,                           # \n",
    "\n",
    "    lags_sequence=[0],            \n",
    "    num_time_features=0,\n",
    "\n",
    "    num_dynamic_real_features=0,\n",
    "    num_static_categorical_features=0,\n",
    "    num_static_real_features=0,\n",
    "    cardinality=[],\n",
    "    embedding_dimension=[],\n",
    "\n",
    "    d_model=64,                             \n",
    "    encoder_layers=3,                       \n",
    "    decoder_layers=3,                      \n",
    "    encoder_attention_heads=4,              \n",
    "    decoder_attention_heads=4,\n",
    "    encoder_ffn_dim=128,                    \n",
    "    decoder_ffn_dim=128,\n",
    "    dropout=0.1,                            \n",
    "    attention_dropout=0.1,                 \n",
    "    activation_dropout=0.1,                 # \n",
    "    activation_function=\"gelu\",             \n",
    "\n",
    "    num_parallel_samples=100,\n",
    ")"
   ]
  },
  {
   "cell_type": "code",
   "execution_count": 3,
   "id": "89f727fe-2cfb-4bb4-b859-88d0bfab56e7",
   "metadata": {},
   "outputs": [
    {
     "name": "stderr",
     "output_type": "stream",
     "text": [
      "GPU available: True (cuda), used: False\n",
      "TPU available: False, using: 0 TPU cores\n",
      "HPU available: False, using: 0 HPUs\n",
      "/home/weijiesun/anaconda3/envs/pytorch/lib/python3.10/site-packages/pytorch_lightning/trainer/setup.py:177: GPU available but not used. You can set it by doing `Trainer(accelerator='gpu')`.\n"
     ]
    }
   ],
   "source": [
    "import pytorch_lightning as pl\n",
    "from pytorch_lightning.callbacks import ModelCheckpoint, EarlyStopping\n",
    "from pytorch_lightning.loggers import WandbLogger\n",
    "from pytorch_lightning.strategies import DDPStrategy\n",
    "\n",
    "# Callbacks\n",
    "checkpoint_cb = ModelCheckpoint(\n",
    "    filename='series-{epoch:02d}-{val_nll:.4f}',\n",
    "    save_top_k=1, monitor='val_loss', mode='min'\n",
    ")\n",
    "earlystop_cb = EarlyStopping(monitor='val_loss', patience=10, mode='min')\n",
    "devices = [0]\n",
    "trainer = pl.Trainer(\n",
    "    max_epochs=5,\n",
    "    accelerator='cpu',    \n",
    "    devices=1,           \n",
    "    precision='32',       \n",
    "    # accelerator='gpu',\n",
    "    # devices=devices,  # use GPU 0 and GPU 1\n",
    "    # strategy=DDPStrategy(find_unused_parameters=True), #allow unused parameters\n",
    "    # precision='16-mixed',  # updated per Lightning recommendation\n",
    "    callbacks=[checkpoint_cb, earlystop_cb],\n",
    "    # logger=wandb_logger\n",
    ")\n",
    "\n",
    "# Data & Model instantiation\n",
    "dm = SeriesPredictionDataModule(train_files, val_files, num_workers = 0)\n",
    "model = SeriesPredictionModule(config)\n",
    "\n",
    "# Run training\n",
    "# trainer.fit(model, dm)\n"
   ]
  },
  {
   "cell_type": "code",
   "execution_count": 4,
   "id": "24863826-0385-4908-a0be-e76890b80fea",
   "metadata": {},
   "outputs": [
    {
     "name": "stderr",
     "output_type": "stream",
     "text": [
      "/home/weijiesun/anaconda3/envs/pytorch/lib/python3.10/site-packages/pytorch_lightning/trainer/connectors/data_connector.py:424: The 'predict_dataloader' does not have many workers which may be a bottleneck. Consider increasing the value of the `num_workers` argument` to `num_workers=95` in the `DataLoader` to improve performance.\n"
     ]
    },
    {
     "data": {
      "application/json": {
       "ascii": false,
       "bar_format": "{l_bar}{bar}| {n_fmt}/{total_fmt} [{elapsed}<{remaining}, {rate_noinv_fmt}{postfix}]",
       "colour": null,
       "elapsed": 0.020418643951416016,
       "initial": 0,
       "n": 0,
       "ncols": 202,
       "nrows": 52,
       "postfix": null,
       "prefix": "Predicting",
       "rate": null,
       "total": null,
       "unit": "it",
       "unit_divisor": 1000,
       "unit_scale": false
      },
      "application/vnd.jupyter.widget-view+json": {
       "model_id": "4bd31c612766444eb33c5a40c7494abf",
       "version_major": 2,
       "version_minor": 0
      },
      "text/plain": [
       "Predicting: |                                                                                                 …"
      ]
     },
     "metadata": {},
     "output_type": "display_data"
    },
    {
     "name": "stdout",
     "output_type": "stream",
     "text": [
      "torch.Size([29, 5, 1201]) torch.Size([29, 1201, 5])\n"
     ]
    }
   ],
   "source": [
    "from torch.utils.data import Dataset, DataLoader\n",
    "import torch\n",
    "\n",
    "best_ckpt_path = checkpoint_cb.best_model_path  \n",
    "\n",
    "import glob\n",
    "ckpt_files = glob.glob(\"./lightning_logs/version_*/checkpoints/*.ckpt\")\n",
    "\n",
    "best_ckpt_path = sorted(ckpt_files)[-1]\n",
    "\n",
    "best_model = SeriesPredictionModule.load_from_checkpoint(\n",
    "    checkpoint_path=best_ckpt_path,\n",
    "    config=config\n",
    ")\n",
    "val_dataset = TimeSeriesDataset(val_files, input_len=300, output_len=1201)\n",
    "\n",
    "predictions = trainer.predict(\n",
    "    best_model,\n",
    "    dataloaders=DataLoader(\n",
    "            val_dataset, batch_size=2,\n",
    "            shuffle=False, num_workers=0\n",
    "        ),  # 或者直接传 test_dataloader\n",
    "    ckpt_path=None                     # 因为我们手动 load 了权重\n",
    ")\n",
    "\n",
    "all_preds = torch.cat([p['pred_seq'] for p in predictions], dim=0)  # (N, C, pred_len)\n",
    "all_gts   = torch.cat([p['gt_seq']   for p in predictions], dim=0)  # (N, C, pred_len)\n",
    "\n",
    "all_preds = all_preds.permute(0, 2, 1)\n",
    "print(all_preds.shape, all_gts.shape)"
   ]
  },
  {
   "cell_type": "code",
   "execution_count": 10,
   "id": "147c2e8c-6c4a-4306-b605-26f8ce5b812e",
   "metadata": {},
   "outputs": [
    {
     "name": "stdout",
     "output_type": "stream",
     "text": [
      "MSE:  852.2455\n",
      "RMSE: 29.1932\n",
      "MAE:  11.0615\n",
      "MAPE: 8.04%\n",
      "sMAPE:6.84%\n",
      "R2:   0.9354\n"
     ]
    }
   ],
   "source": [
    "import numpy as np\n",
    "\n",
    "preds = all_preds.reshape(-1)  # (N*C*T,)\n",
    "gts   = all_gts.reshape(-1)\n",
    "preds, gts = preds.numpy(), gts.numpy()\n",
    "\n",
    "mse  = np.mean((preds - gts)**2)\n",
    "rmse = np.sqrt(mse)\n",
    "mae  = np.mean(np.abs(preds - gts))\n",
    "\n",
    "mask = np.abs(gts) > 1e-6\n",
    "mape = np.mean(np.abs((preds[mask] - gts[mask]) / gts[mask])) * 100\n",
    "\n",
    "smape = np.mean(\n",
    "    2 * np.abs(preds - gts) / (np.abs(preds) + np.abs(gts) + 1e-6)\n",
    ") * 100\n",
    "\n",
    "from sklearn.metrics import r2_score\n",
    "r2 = r2_score(gts, preds)\n",
    "\n",
    "print(f\"MSE:  {mse:.4f}\")\n",
    "print(f\"RMSE: {rmse:.4f}\")\n",
    "print(f\"MAE:  {mae:.4f}\")\n",
    "print(f\"MAPE: {mape:.2f}%\")\n",
    "print(f\"sMAPE:{smape:.2f}%\")\n",
    "print(f\"R2:   {r2:.4f}\")\n"
   ]
  },
  {
   "cell_type": "code",
   "execution_count": 27,
   "id": "a80ea4db-ad83-4db0-881c-4d669e241739",
   "metadata": {},
   "outputs": [
    {
     "data": {
      "image/png": "[encoded data removed]",
      "text/plain": [
       "<Figure size 864x432 with 1 Axes>"
      ]
     },
     "metadata": {
      "needs_background": "light"
     },
     "output_type": "display_data"
    }
   ],
   "source": [
    "import matplotlib.pyplot as plt\n",
    "import torch\n",
    "\n",
    "columns = ['Average_pupil_diameter', '1_direction', 'Average_velocity', 'Peak_velocity', '1_amplitude']\n",
    "col_index = 4\n",
    "# 假设 ground_truth 和 estimate 是长度为 115 的 1D 张量\n",
    "# 示例数据（请替换为你的实际数据）\n",
    "ground_truth = all_preds[10, :, col_index].cpu()\n",
    "estimate = all_gts[10, :, col_index].cpu()\n",
    "\n",
    "# 创建时间步序列\n",
    "time_steps = list(range(0, len(ground_truth)))  # 从 1 到 115\n",
    "\n",
    "# 绘制图像\n",
    "plt.figure(figsize=(12, 6))\n",
    "plt.plot(time_steps, ground_truth.numpy(), label='Ground Truth', color='blue', linewidth=2)\n",
    "plt.plot(time_steps, estimate.numpy(), label='Estimate', color='orange', linestyle='--', linewidth=2)\n",
    "\n",
    "# 添加标题和标签\n",
    "plt.title(f'Ground Truth vs. Estimate {columns[col_index]}')\n",
    "plt.xlabel('Time Step')\n",
    "plt.ylabel('Value')\n",
    "plt.legend()\n",
    "plt.grid(True)\n",
    "plt.tight_layout()\n",
    "plt.show()\n"
   ]
  }
 ],
 "metadata": {
  "kernelspec": {
   "display_name": "Python 3 (ipykernel)",
   "language": "python",
   "name": "python3"
  },
  "language_info": {
   "codemirror_mode": {
    "name": "ipython",
    "version": 3
   },
   "file_extension": ".py",
   "mimetype": "text/x-python",
   "name": "python",
   "nbconvert_exporter": "python",
   "pygments_lexer": "ipython3",
   "version": "3.10.4"
  }
 },
 "nbformat": 4,
 "nbformat_minor": 5
}
